{
 "cells": [
  {
   "cell_type": "raw",
   "metadata": {
    "scrolled": true
   },
   "source": [
    "!pip install pyTelegramBotAPI"
   ]
  },
  {
   "cell_type": "raw",
   "metadata": {
    "scrolled": false
   },
   "source": [
    "!pip install requests[socks] pyTelegramBotAPI"
   ]
  },
  {
   "cell_type": "raw",
   "metadata": {},
   "source": [
    "import requests\n",
    "url = \"https://api.telegram.org/bot1193429890:AAEKRuZgpA08OBEiTD4LWsNicCg_H-BQhUg/\"\n",
    "r = requests.get(f'{url}getUpdates')\n",
    "r"
   ]
  },
  {
   "cell_type": "raw",
   "metadata": {},
   "source": [
    "import os\n",
    "import telebot\n",
    "from telebot import *"
   ]
  },
  {
   "cell_type": "raw",
   "metadata": {},
   "source": [
    "import os\n",
    "import time\n",
    "import logging\n",
    "\n",
    "import telebot\n",
    "from telebot import *\n",
    "from telebot import apihelper\n",
    "\n",
    "logger = telebot.logger\n",
    "telebot.logger.setLevel(logging.DEBUG)\n",
    "\n",
    "TG_PROXY = 'https://103.241.156.250:8080'\n",
    "TG_BOT_TOKEN = '1193429890:AAEKRuZgpA08OBEiTD4LWsNicCg_H-BQhUg'\n",
    "\n",
    "apihelper.proxy = {'http': TG_PROXY}\n",
    "\n",
    "bot = telebot.TeleBot(TG_BOT_TOKEN)\n",
    "\n",
    "def get_keyboard():\n",
    "    markup = types.ReplyKeyboardMarkup(row_width=1, resize_keyboard=True)\n",
    "    markup.row(\"Личная информация\", \"О цели\", \"Образование\")\n",
    "    markup.row(\"Опыт работы\", \"О себе\", \"Оформление\")\n",
    "    return markup \n",
    "\n",
    "@bot.message_handler(commands=['start']) \n",
    "def handle_start(message): \n",
    "    bot.reply_to(message, 'Привет, ' + message.from_user.first_name) \n",
    "    bot.send_message(message.chat.id, \"Тааак, посмотрим. Для твоего удобства я разбил советы на 6 категорий\", reply_markup=markup)\n",
    "\n",
    "@bot.message_handler(content_types=['text'])\n",
    "def hi_text(message):\n",
    "    if message.text == 'Привет':\n",
    "        bot.send_message(message.chat.id, 'Привет ещё раз. Выбирай кнопку')\n",
    "    elif message.text == 'Пока':\n",
    "        bot.send_message(message.chat.id, 'Надеюсь, я помог. Пиши ещё)')\n",
    "        \n",
    "@bot.message_handler(commands=['personal']) \n",
    "def personal_text(message):\n",
    "    bot.send_message(message.chat.id, 'Хорошо, что начал с этого. Когда я мою лапки, то всегда придерживаюсь гигиены. Все кошечки любят, когда их котики выглядят на все 100% в нашем мяу-клубе. Давай расскажу и тебе эти правила! Указал ли ты свое ФИО?')\n",
    "\n",
    "while True:\n",
    "    try:\n",
    "        bot.polling(none_stop=True)\n",
    "    except Exception as e:\n",
    "        logger.error(e)\n",
    "        time.sleep(15)"
   ]
  },
  {
   "cell_type": "raw",
   "metadata": {
    "scrolled": true
   },
   "source": [
    "import telebot\n",
    "from telebot import *\n",
    "bot = telebot.TeleBot('1193429890:AAEKRuZgpA08OBEiTD4LWsNicCg_H-BQhUg')\n",
    "\n",
    "markup = types.ReplyKeyboardMarkup(row_width=1, resize_keyboard=True)\n",
    "markup.row(\"Личная информация\", \"О цели\", \"Образование\")\n",
    "markup.row(\"Опыт работы\", \"О себе\", \"Оформление\")\n",
    "\n",
    "@bot.message_handler(commands=['start']) \n",
    "def handle_start(message): \n",
    "    bot.reply_to(message, 'Привет, ' + message.from_user.first_name) \n",
    "    bot.send_message(message.chat.id, \"Тааак, посмотрим. Для твоего удобства я разбил советы на 6 категорий\", reply_markup=markup)\n",
    "\n",
    "@bot.message_handler(content_types=['text'])\n",
    "def hi_text(message):\n",
    "    if message.text == 'Привет':\n",
    "        bot.send_message(message.chat.id, 'Привет ещё раз. Выбирай кнопку')\n",
    "    elif message.text == 'Пока':\n",
    "        bot.send_message(message.chat.id, 'Надеюсь, я помог. Пиши ещё)')\n",
    "        \n",
    "@bot.message_handler(func = lambda message: True)\n",
    "def personal_text(message):\n",
    "    if message.text == 'Личная информация':\n",
    "        bot.send_message(message.chat.id, 'Хорошо, что начал с этого. Когда я мою лапки, то всегда придерживаюсь гигиены. Все кошечки любят, когда их котики выглядят на все 100% в нашем мяу-клубе. Давай расскажу и тебе эти правила! Указал ли ты свое ФИО?')\n",
    "    elif message.text == \"О цели\":\n",
    "        bot.send_message(message.chat.id, 'Огонь! Знаешь, зачем нужно писать цель в резюме?')\n",
    "\n",
    "    \n",
    "bot.polling()\n",
    "\n",
    "while True:\n",
    "    pass"
   ]
  },
  {
   "cell_type": "raw",
   "metadata": {},
   "source": [
    "@bot.message_handler(content_types=['text'])\n",
    "def personal_text(message):\n",
    "    if message.text == 'Личная информация':\n",
    "        bot.send_message(message.chat.id, 'Хорошо, что начал с этого. Когда я мою лапки, то всегда придерживаюсь гигиены. Все кошечки любят, когда их котики выглядят на все 100% в нашем мяу-клубе. Давай расскажу и тебе эти правила! Указал ли ты свое ФИО?')\n",
    "    elif message.text == \"О цели\":\n",
    "        bot.send_message(message.chat.id, 'Огонь! Знаешь, зачем нужно писать цель в резюме?')\n",
    "    elif message.text == 'Образование':\n",
    "        bot.send_message(message.chat.id, 'То что нужно! Ты и так знаешь, зачем нужна информация об образовании в резюме, но повторим ещё раз')\n",
    "        \n",
    "bot.polling(none_stop=True, interval=1)\n",
    "\n",
    "while True:\n",
    "    pass    "
   ]
  },
  {
   "cell_type": "raw",
   "metadata": {},
   "source": [
    "if message.text == 'Да':\n",
    "            bot.send_message(message.chat.id, \"Молодец! Хочу обратить твое внимание, что правильный вариант писать как полностью от фамилии до отчества, так и без указания последнего. Все зависит от конкретного случая.\")\n",
    "        elif message.text == 'Нет':\n",
    "            bot.send_message(message.chat.id, \"Грустно, но это можно исправить. Просто добавь свою фамилию, имя и отчество и рекрутеру сразу будет понятно, с кем он имеет дело.\")\n",
    "        bot.send_message(message.chat.id, \"Скажи, а мяуграфия у тебя есть?\")"
   ]
  },
  {
   "cell_type": "raw",
   "metadata": {},
   "source": [
    "import requests\n",
    "import os\n",
    "\n",
    "url = \"https://api.telegram.org/bot1193429890:AAEKRuZgpA08OBEiTD4LWsNicCg_H-BQhUg/\"\n",
    "\n",
    "#делаем функцию проверки обновлений \n",
    "\n",
    "def get_updates_json(request):  \n",
    "    response = requests.get(request + 'getUpdates')\n",
    "    return response.json()\n",
    "\n",
    "def last_update(data):  \n",
    "    results = data['result']\n",
    "    total_updates = len(results) - 1\n",
    "    return results[total_updates]\n",
    "\n",
    "def get_chat_id(update):  \n",
    "    chat_id = update['message']['chat']['id']\n",
    "    return chat_id\n",
    "\n",
    "def send_mess(chat, text):  \n",
    "    params = {'chat_id': chat, 'text': text}\n",
    "    response = requests.post(url + 'sendMessage', data=params)\n",
    "    return response\n",
    "\n",
    "chat_id = get_chat_id(last_update(get_updates_json(url)))\n",
    "send_mess(chat_id, 'Your message goes here')\n",
    "\n",
    "def main():  \n",
    "    update_id = last_update(get_updates_json(url))['update_id']\n",
    "    while True:\n",
    "        if update_id == last_update(get_updates_json(url))['update_id']:\n",
    "            send_mess(get_chat_id(last_update(get_updates_json(url))), 'test')\n",
    "            update_id += 1\n",
    "    sleep(1)       \n",
    "\n",
    "if __name__ == '__main__':  \n",
    "    main()\n",
    "\n",
    "token = \"1193429890:AAFxeHlGld7Q2Pe5S_kG4cvu9OL5zdfKAs0\"\n",
    "bot = telebot.TeleBot('1193429890:AAFxeHlGld7Q2Pe5S_kG4cvu9OL5zdfKAs0')"
   ]
  },
  {
   "cell_type": "raw",
   "metadata": {},
   "source": [
    "bot = telebot.TeleBot('1193429890:AAFxeHlGld7Q2Pe5S_kG4cvu9OL5zdfKAs0')\n",
    "\n",
    "markup = types.ReplyKeyboardMarkup(row_width=1, resize_keyboard=True)\n",
    "markup.row(\"Личная информация\", \"О цели\", \"Образование\")\n",
    "markup.row(\"Опыт работы\", \"О себе\", \"Оформление\")\n",
    "\n",
    "\n",
    "@bot.message_handler(commands=['start']) \n",
    "def handle_start(message): \n",
    " bot.reply_to(message, 'Hello, ' + message.from_user.first_name) \n",
    " \n",
    "\n",
    "#    bot.send_message(message.chat.id, \"Тааак, посмотрим. Для твоего удобства я разбил советы на 6 категорий\", reply_markup=markup)\n",
    "\n",
    "bot.polling()"
   ]
  },
  {
   "cell_type": "raw",
   "metadata": {},
   "source": [
    "@bot.message_handler(content_types=[\"text\"])\n",
    "def default_test(message):\n",
    "    if message.text == 'Яндекс':\n",
    "        keyboard = types.InlineKeyboardMarkup()\n",
    "        url_button = types.InlineKeyboardButton(text=\"Перейти на Яндекс\", url=\"https://ya.ru\")\n",
    "        keyboard.add(url_button)\n",
    "        bot.send_message(message.chat.id, \"Привет! Нажми на кнопку и перейди в поисковик\", reply_markup=keyboard)\n",
    "        \n",
    "bot.polling(none_stop=True, interval=0)"
   ]
  },
  {
   "cell_type": "raw",
   "metadata": {},
   "source": [
    "elif message.text == 'О цели':\n",
    "        bot.send_message(message.chat.id, 'Огонь! Знаешь, зачем нужно писать цель в резюме?')\n",
    "    elif message.text == 'Образование':\n",
    "        bot.send_message(message.chat.id, 'То что нужно! Ты и так знаешь, зачем нужна информация об образовании в резюме, n\\\n",
    "        но повторим ещё раз')\n",
    "    elif message.text == 'Опыт работы':\n",
    "        bot.send_message(message.chat.id, 'О да, это очень важный пункт в резюме')\n",
    "    elif message.text == 'О себе':\n",
    "        bot.send_message(message.chat.id, 'Супер, поговорим о разделе, которому часто не уделяют должного внимания')\n",
    "    elif message.text == 'Оформление':\n",
    "        bot.send_message(message.chat.id, 'Юхуу, мой любимый раздел!')\n",
    "        \n",
    "        if message.text == 'Да':\n",
    "            bot.send_message(message.chat.id, 'Молодец! Хочу обратить твое внимание, что правильный вариант писать как полностью от фамилии до отчества, так и без указания последнего. Все зависит от конкретного случая.\n",
    "')\n",
    "        elif message.text == 'Нет':\n",
    "            bot.send_message(message.chat.id, 'Грустно, но это можно исправить. Просто добавь свою фамилию, имя и отчество и рекрутеру сразу будет понятно, с кем он имеет дело.\n",
    "')\n"
   ]
  },
  {
   "cell_type": "raw",
   "metadata": {},
   "source": [
    "@bot.message_handler(commands=['help'])\n",
    "def command_help(message):\n",
    "    bot.reply_to(message, \"Если тебе нужна помощь с резюме, просто нажми на одну из кнопок меню\")\n",
    "    \n",
    "bot.polling()\n",
    "\n",
    "while True:\n",
    "    pass"
   ]
  }
 ],
 "metadata": {
  "kernelspec": {
   "display_name": "Python 3",
   "language": "python",
   "name": "python3"
  },
  "language_info": {
   "codemirror_mode": {
    "name": "ipython",
    "version": 3
   },
   "file_extension": ".py",
   "mimetype": "text/x-python",
   "name": "python",
   "nbconvert_exporter": "python",
   "pygments_lexer": "ipython3",
   "version": "3.7.6"
  }
 },
 "nbformat": 4,
 "nbformat_minor": 4
}
