{
 "cells": [
  {
   "cell_type": "code",
   "execution_count": null,
   "metadata": {},
   "outputs": [],
   "source": [
    "from bs4 import BeautifulSoup\n",
    "from telegram import ReplyKeyboardRemove\n",
    "from telegram import *\n",
    "from utilites import get_keyboard\n",
    "import requests\n",
    "\n",
    "def sms(bot, update):\n",
    "    print(\"Ура, нажали на команду /start!\")\n",
    "    bot.message.reply_text(\"Привет, {}! \\nТааак, посмотрим. Для твоего удобства я разбил советы на 6 категорий.\"\n",
    "                          .format(bot.message.chat.first_name), reply_markup = get_keyboard())\n",
    "    \n",
    "#def personal_text(bot, update):\n",
    "#def goal_text(bot, update):\n",
    "#def education_text(bot, update):\n",
    "#def jobexp_text(bot, update):\n",
    "#def about_me_text(bot, update):\n",
    "#def decor_text(bot, update):\n",
    "\n",
    "def start_dialog(bot, update):\n",
    "    bot.message.reply_text(\"Для начала скажи, как тебя зовут?\")\n",
    "    return \"user_name\"\n",
    "\n",
    "#reply_markup = ReplyKeyboardRemove\n",
    "\n",
    "def dialog_get_name(bot, update):\n",
    "    update.user_data[\"name\"] = bot.message.text\n",
    "    bot.message.reply_text(\"Я понял, давай выберем, что ты хочешь обсудить.\", reply_markup = get_keyboard())\n",
    "    return \"answer\"\n",
    "\n",
    "def personal_text(bot, update):\n",
    "    update.user_data[\"answer\"] = bot.message.text\n",
    "    reply_keyboard = [[\"Да\", \"Нет\"]]\n",
    "    bot.message.reply_text(\n",
    "        \"Хорошо, что начал с этого. Когда я мою лапки, то всегда придерживаюсь гигиены. Все кошечки любят, когда их котики выглядят на все 100% в нашем мяу-клубе. Давай расскажу и тебе эти правила! \\nУказал(а) ли ты свое ФИО?\", \n",
    "        reply_markup = ReplyKeyboardMarkup(reply_keyboard, one_time_keyboard = True))\n",
    "    return \"FIO\""
   ]
  }
 ],
 "metadata": {
  "kernelspec": {
   "display_name": "Python 3",
   "language": "python",
   "name": "python3"
  },
  "language_info": {
   "codemirror_mode": {
    "name": "ipython",
    "version": 3
   },
   "file_extension": ".py",
   "mimetype": "text/x-python",
   "name": "python",
   "nbconvert_exporter": "python",
   "pygments_lexer": "ipython3",
   "version": "3.7.6"
  }
 },
 "nbformat": 4,
 "nbformat_minor": 4
}
