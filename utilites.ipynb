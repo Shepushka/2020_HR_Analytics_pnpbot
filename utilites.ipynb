{
 "cells": [
  {
   "cell_type": "code",
   "execution_count": null,
   "metadata": {},
   "outputs": [],
   "source": [
    "def get_keyboard():\n",
    "    markup = ReplyKeyboardMarkup([[\"Начать диалог\"],\n",
    "                                  [\"Личная информация\", \"О цели\", \"Образование\"],\n",
    "                                  [\"Опыт работы\", \"О себе\", \"Оформление\"]\n",
    "                                 ], resize_keyboard=True)\n",
    "    return markup \n"
   ]
  }
 ],
 "metadata": {
  "kernelspec": {
   "display_name": "Python 3",
   "language": "python",
   "name": "python3"
  },
  "language_info": {
   "codemirror_mode": {
    "name": "ipython",
    "version": 3
   },
   "file_extension": ".py",
   "mimetype": "text/x-python",
   "name": "python",
   "nbconvert_exporter": "python",
   "pygments_lexer": "ipython3",
   "version": "3.7.6"
  }
 },
 "nbformat": 4,
 "nbformat_minor": 4
}
