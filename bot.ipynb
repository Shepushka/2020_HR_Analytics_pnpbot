{
 "cells": [
  {
   "cell_type": "code",
   "execution_count": 4,
   "metadata": {},
   "outputs": [
    {
     "name": "stdout",
     "output_type": "stream",
     "text": [
      "Ура, нажали на команду /start!\n"
     ]
    }
   ],
   "source": [
    "from telegram.ext import Updater, CommandHandler, MessageHandler, ConversationHandler, Filters\n",
    "from settings import TG_TOKEN, TG_API_URL\n",
    "#from handlers import *\n",
    "\n",
    "def main():\n",
    "    pnpbot = Updater(TG_TOKEN, TG_API_URL, use_context = True)\n",
    "    pnpbot.dispatcher.add_handler(CommandHandler(\"start\", sms))\n",
    "#    pnpbot.dispatcher.add_handler(MessageHandler(Filters.regex(\"Личная информация\"), personal_text))\n",
    "#    pnpbot.dispatcher.add_handler(MessageHandler(Filters.regex(\"О цели\"), goal_text))\n",
    "#    pnpbot.dispatcher.add_handler(MessageHandler(Filters.regex(\"Образование\"), education_text))\n",
    "#    pnpbot.dispatcher.add_handler(MessageHandler(Filters.regex(\"Опыт работы\"), jobexp_text))\n",
    "#    pnpbot.dispatcher.add_handler(MessageHandler(Filters.regex(\"О себе\"), about_me_text))\n",
    "#    pnpbot.dispatcher.add_handler(MessageHandler(Filters.regex(\"Оформление\"), decor_text))\n",
    "#    pnpbot.dispatcher.add_handler(ConversationHandler(entry_points = [MessageHandler(Filters.regex(\"Начать диалог\"), start_dialog)], \n",
    "#                                                      states = {\n",
    "#                                                          \"user_name\": [MessageHandler(Filters.text, dialog_get_name)],\n",
    "#                                                          \"answer\": [MessageHandler(Filters.regex(\"Личная информация\"), personal_text),\n",
    "#                                                                    MessageHandler(Filters.regex(\"О цели\"), goal_text),\n",
    "#                                                                    MessageHandler(Filters.regex(\"Образование\"), education_text),\n",
    "#                                                                    MessageHandler(Filters.regex(\"Опыт работы\"), jobexp_text),\n",
    "#                                                                    MessageHandler(Filters.regex(\"О себе\"), about_me_text),\n",
    "#                                                                    MessageHandler(Filters.regex(\"Оформление\"), decor_text)],\n",
    "#                                                          \"FIO\": [MessageHandler(Filters.regex(\"Да\"), personal_yes_1),\n",
    "#                                                                 MessageHandler(Filters.regex(\"Нет\"), personal_no_1),],\n",
    "#                                                      }, \n",
    "#                                                      fallbacks = []\n",
    "#                                                     )\n",
    "#                                 )\n",
    "    #pnpbot.dispatcher.add_handler(MessageHandler(Filters.text, parrot))\n",
    "    pnpbot.start_polling()\n",
    "    pnpbot.idle()\n",
    "    \n",
    "    \n",
    "# if __name__ == \"__main__\":\n",
    "main()"
   ]
  },
  {
   "cell_type": "code",
   "execution_count": null,
   "metadata": {},
   "outputs": [],
   "source": []
  }
 ],
 "metadata": {
  "kernelspec": {
   "display_name": "Python 3",
   "language": "python",
   "name": "python3"
  },
  "language_info": {
   "codemirror_mode": {
    "name": "ipython",
    "version": 3
   },
   "file_extension": ".py",
   "mimetype": "text/x-python",
   "name": "python",
   "nbconvert_exporter": "python",
   "pygments_lexer": "ipython3",
   "version": "3.7.6"
  }
 },
 "nbformat": 4,
 "nbformat_minor": 4
}
